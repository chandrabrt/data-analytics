{
 "cells": [
  {
   "cell_type": "code",
   "execution_count": 1,
   "id": "0366881c",
   "metadata": {},
   "outputs": [],
   "source": [
    "import numpy as np\n",
    "import pandas as pd"
   ]
  },
  {
   "cell_type": "code",
   "execution_count": 16,
   "id": "fbde882c",
   "metadata": {},
   "outputs": [
    {
     "name": "stdout",
     "output_type": "stream",
     "text": [
      "    S.No.  MTE (25)  Mini Project (25)  Total (50)  ETE (50)  Total\n",
      "0       1      5.00                 20       25.00      12.0  37.00\n",
      "1       2     11.05                 20       31.05      26.0  57.05\n",
      "2       3      8.10                 20       28.10      14.0  42.10\n",
      "3       4      6.00                 10       16.00      13.0  29.00\n",
      "4       5     11.35                 20       31.35      17.0  48.35\n",
      "..    ...       ...                ...         ...       ...    ...\n",
      "74     75     12.05                 10       22.05      20.0  42.05\n",
      "75     76     12.25                 10       22.25      28.0  50.25\n",
      "76     77      1.75                 10       11.75       NaN   0.00\n",
      "77     78      3.00                 10       13.00       NaN   0.00\n",
      "78     79      5.80                 10       15.80      12.0  27.80\n",
      "\n",
      "[79 rows x 6 columns]\n"
     ]
    }
   ],
   "source": [
    "path = \"./files/marks.xlsx\"\n",
    "table = pd.read_excel(path)\n",
    "print(table)"
   ]
  },
  {
   "cell_type": "code",
   "execution_count": 85,
   "id": "cf6af6ea",
   "metadata": {},
   "outputs": [
    {
     "name": "stdout",
     "output_type": "stream",
     "text": [
      "mean:  46.90632911392405\n",
      "median:  45.0\n"
     ]
    }
   ],
   "source": [
    "# find mean median mode of the total\n",
    "\n",
    "x = table['Total']\n",
    "mean = np.mean(x)\n",
    "median = np.median(x)\n",
    "print(\"mean: \", mean)\n",
    "print(\"median: \", median)"
   ]
  },
  {
   "cell_type": "code",
   "execution_count": null,
   "id": "2ecd379f",
   "metadata": {},
   "outputs": [],
   "source": []
  },
  {
   "cell_type": "code",
   "execution_count": 99,
   "id": "6dd90f2b",
   "metadata": {},
   "outputs": [
    {
     "name": "stdout",
     "output_type": "stream",
     "text": [
      "mode:  ModeResult(mode=array([0.]), count=array([2]))\n"
     ]
    }
   ],
   "source": [
    "from scipy import stats\n",
    "mode = stats.mode(x)\n",
    "print(\"mode: \", mode) # mode is 0 and repeated twice"
   ]
  },
  {
   "cell_type": "code",
   "execution_count": null,
   "id": "5f1d744d",
   "metadata": {},
   "outputs": [],
   "source": []
  },
  {
   "cell_type": "code",
   "execution_count": 58,
   "id": "eaebfac8",
   "metadata": {},
   "outputs": [
    {
     "name": "stdout",
     "output_type": "stream",
     "text": [
      "percentile:  45.39\n"
     ]
    }
   ],
   "source": [
    "percentile = np.percentile(x, 51) # 50th percentile\n",
    "print(\"percentile: \", percentile)"
   ]
  },
  {
   "cell_type": "code",
   "execution_count": null,
   "id": "3044df6e",
   "metadata": {},
   "outputs": [],
   "source": []
  },
  {
   "cell_type": "code",
   "execution_count": 64,
   "id": "ba300a88",
   "metadata": {},
   "outputs": [
    {
     "name": "stdout",
     "output_type": "stream",
     "text": [
      "50th and median are equals\n"
     ]
    }
   ],
   "source": [
    "# we know that median and 50th percentile is same. Now verify it.\n",
    "if(np.median(x) == np.percentile(x,50)):\n",
    "    print(\"50th and median are equals\")\n",
    "else: print(\"not equals\")    "
   ]
  },
  {
   "cell_type": "code",
   "execution_count": null,
   "id": "0cb9ce7b",
   "metadata": {},
   "outputs": [],
   "source": []
  },
  {
   "cell_type": "code",
   "execution_count": null,
   "id": "6f040a03",
   "metadata": {},
   "outputs": [],
   "source": [
    "#Anothe way to calculate mean median mode is using statistics libaray"
   ]
  },
  {
   "cell_type": "code",
   "execution_count": 67,
   "id": "a7e196d9",
   "metadata": {},
   "outputs": [
    {
     "name": "stdout",
     "output_type": "stream",
     "text": [
      "Collecting statistics\n",
      "  Downloading statistics-1.0.3.5.tar.gz (8.3 kB)\n",
      "Collecting docutils>=0.3\n",
      "  Downloading docutils-0.17.1-py2.py3-none-any.whl (575 kB)\n",
      "\u001b[K     |████████████████████████████████| 575 kB 1.3 MB/s eta 0:00:01\n",
      "\u001b[?25hBuilding wheels for collected packages: statistics\n",
      "  Building wheel for statistics (setup.py) ... \u001b[?25ldone\n",
      "\u001b[?25h  Created wheel for statistics: filename=statistics-1.0.3.5-py3-none-any.whl size=7452 sha256=7573b6f861501b435727657ba84c00e1924d8f35af9ef229e3887602b0d44acb\n",
      "  Stored in directory: /home/welcome-to-hell/.cache/pip/wheels/36/4b/c7/6af97584669b756c0d60c5ff05d5fb1f533a4e4d96e5ee92b9\n",
      "Successfully built statistics\n",
      "Installing collected packages: docutils, statistics\n",
      "Successfully installed docutils-0.17.1 statistics-1.0.3.5\n",
      "Note: you may need to restart the kernel to use updated packages.\n"
     ]
    }
   ],
   "source": [
    "pip install statistics"
   ]
  },
  {
   "cell_type": "code",
   "execution_count": 101,
   "id": "501e5fb5",
   "metadata": {},
   "outputs": [
    {
     "name": "stdout",
     "output_type": "stream",
     "text": [
      "mean:  46.90632911392405\n",
      "median:  45.0\n",
      "mode:  [48.35, 43.5, 38.0, 42.7, 39.7, 41.0, 0.0]\n"
     ]
    }
   ],
   "source": [
    "import statistics as st\n",
    "\n",
    "mean = st.mean(x)\n",
    "median = st.median(x)\n",
    "mode = st.mode(x)\n",
    "multi_mode = st.multimode(x)\n",
    "\n",
    "print(\"mean: \", mean)\n",
    "print(\"median: \", median)\n",
    "print(\"mode: \", mode)\n",
    "print(\"mode: \", mode)"
   ]
  },
  {
   "cell_type": "code",
   "execution_count": null,
   "id": "fef81e4e",
   "metadata": {},
   "outputs": [],
   "source": []
  }
 ],
 "metadata": {
  "kernelspec": {
   "display_name": "Python 3 (ipykernel)",
   "language": "python",
   "name": "python3"
  },
  "language_info": {
   "codemirror_mode": {
    "name": "ipython",
    "version": 3
   },
   "file_extension": ".py",
   "mimetype": "text/x-python",
   "name": "python",
   "nbconvert_exporter": "python",
   "pygments_lexer": "ipython3",
   "version": "3.8.10"
  }
 },
 "nbformat": 4,
 "nbformat_minor": 5
}
